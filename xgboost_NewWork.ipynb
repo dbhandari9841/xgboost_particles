{
 "cells": [
  {
   "cell_type": "markdown",
   "id": "581b3e24-fbe1-4299-9740-6d5f5513c9df",
   "metadata": {},
   "source": [
    "FROM HERE, XGB TUTORIAL FOR HISTOGRAMS USED  https://github.com/k-woodruff/bdt-tutorial/blob/master/bdt_tutorial.ipynb"
   ]
  },
  {
   "cell_type": "code",
   "execution_count": 3,
   "id": "90551ff4-5e56-4b90-814d-1c9104a1597e",
   "metadata": {},
   "outputs": [],
   "source": [
    "import pandas as pd\n",
    "import numpy as np\n",
    "import matplotlib.pyplot as plt\n",
    "import xgboost as xgb\n",
    "\n",
    "from sklearn.model_selection import train_test_split\n",
    "from sklearn.metrics import accuracy_score, classification_report\n",
    "from sklearn.preprocessing import LabelEncoder\n",
    "\n",
    "%matplotlib inline"
   ]
  },
  {
   "cell_type": "markdown",
   "id": "5856b7be-9e26-45fc-ab38-eee2137c5913",
   "metadata": {},
   "source": [
    "Loading Data"
   ]
  },
  {
   "cell_type": "code",
   "execution_count": 5,
   "id": "83a23665-4599-4b4c-b874-2b93946e505a",
   "metadata": {},
   "outputs": [
    {
     "data": {
      "text/html": [
       "<div>\n",
       "<style scoped>\n",
       "    .dataframe tbody tr th:only-of-type {\n",
       "        vertical-align: middle;\n",
       "    }\n",
       "\n",
       "    .dataframe tbody tr th {\n",
       "        vertical-align: top;\n",
       "    }\n",
       "\n",
       "    .dataframe thead th {\n",
       "        text-align: right;\n",
       "    }\n",
       "</style>\n",
       "<table border=\"1\" class=\"dataframe\">\n",
       "  <thead>\n",
       "    <tr style=\"text-align: right;\">\n",
       "      <th></th>\n",
       "      <th>age</th>\n",
       "      <th>job</th>\n",
       "      <th>marital</th>\n",
       "      <th>education</th>\n",
       "      <th>default</th>\n",
       "      <th>housing</th>\n",
       "      <th>loan</th>\n",
       "      <th>contact</th>\n",
       "      <th>month</th>\n",
       "      <th>day_of_week</th>\n",
       "      <th>...</th>\n",
       "      <th>campaign</th>\n",
       "      <th>pdays</th>\n",
       "      <th>previous</th>\n",
       "      <th>poutcome</th>\n",
       "      <th>emp.var.rate</th>\n",
       "      <th>cons.price.idx</th>\n",
       "      <th>cons.conf.idx</th>\n",
       "      <th>euribor3m</th>\n",
       "      <th>nr.employed</th>\n",
       "      <th>y</th>\n",
       "    </tr>\n",
       "  </thead>\n",
       "  <tbody>\n",
       "    <tr>\n",
       "      <th>0</th>\n",
       "      <td>56</td>\n",
       "      <td>housemaid</td>\n",
       "      <td>married</td>\n",
       "      <td>basic.4y</td>\n",
       "      <td>no</td>\n",
       "      <td>no</td>\n",
       "      <td>no</td>\n",
       "      <td>telephone</td>\n",
       "      <td>may</td>\n",
       "      <td>mon</td>\n",
       "      <td>...</td>\n",
       "      <td>1</td>\n",
       "      <td>999</td>\n",
       "      <td>0</td>\n",
       "      <td>nonexistent</td>\n",
       "      <td>1.1</td>\n",
       "      <td>93.994</td>\n",
       "      <td>-36.4</td>\n",
       "      <td>4.857</td>\n",
       "      <td>5191.0</td>\n",
       "      <td>no</td>\n",
       "    </tr>\n",
       "    <tr>\n",
       "      <th>1</th>\n",
       "      <td>57</td>\n",
       "      <td>services</td>\n",
       "      <td>married</td>\n",
       "      <td>high.school</td>\n",
       "      <td>unknown</td>\n",
       "      <td>no</td>\n",
       "      <td>no</td>\n",
       "      <td>telephone</td>\n",
       "      <td>may</td>\n",
       "      <td>mon</td>\n",
       "      <td>...</td>\n",
       "      <td>1</td>\n",
       "      <td>999</td>\n",
       "      <td>0</td>\n",
       "      <td>nonexistent</td>\n",
       "      <td>1.1</td>\n",
       "      <td>93.994</td>\n",
       "      <td>-36.4</td>\n",
       "      <td>4.857</td>\n",
       "      <td>5191.0</td>\n",
       "      <td>no</td>\n",
       "    </tr>\n",
       "    <tr>\n",
       "      <th>2</th>\n",
       "      <td>37</td>\n",
       "      <td>services</td>\n",
       "      <td>married</td>\n",
       "      <td>high.school</td>\n",
       "      <td>no</td>\n",
       "      <td>yes</td>\n",
       "      <td>no</td>\n",
       "      <td>telephone</td>\n",
       "      <td>may</td>\n",
       "      <td>mon</td>\n",
       "      <td>...</td>\n",
       "      <td>1</td>\n",
       "      <td>999</td>\n",
       "      <td>0</td>\n",
       "      <td>nonexistent</td>\n",
       "      <td>1.1</td>\n",
       "      <td>93.994</td>\n",
       "      <td>-36.4</td>\n",
       "      <td>4.857</td>\n",
       "      <td>5191.0</td>\n",
       "      <td>no</td>\n",
       "    </tr>\n",
       "    <tr>\n",
       "      <th>3</th>\n",
       "      <td>40</td>\n",
       "      <td>admin.</td>\n",
       "      <td>married</td>\n",
       "      <td>basic.6y</td>\n",
       "      <td>no</td>\n",
       "      <td>no</td>\n",
       "      <td>no</td>\n",
       "      <td>telephone</td>\n",
       "      <td>may</td>\n",
       "      <td>mon</td>\n",
       "      <td>...</td>\n",
       "      <td>1</td>\n",
       "      <td>999</td>\n",
       "      <td>0</td>\n",
       "      <td>nonexistent</td>\n",
       "      <td>1.1</td>\n",
       "      <td>93.994</td>\n",
       "      <td>-36.4</td>\n",
       "      <td>4.857</td>\n",
       "      <td>5191.0</td>\n",
       "      <td>no</td>\n",
       "    </tr>\n",
       "    <tr>\n",
       "      <th>4</th>\n",
       "      <td>56</td>\n",
       "      <td>services</td>\n",
       "      <td>married</td>\n",
       "      <td>high.school</td>\n",
       "      <td>no</td>\n",
       "      <td>no</td>\n",
       "      <td>yes</td>\n",
       "      <td>telephone</td>\n",
       "      <td>may</td>\n",
       "      <td>mon</td>\n",
       "      <td>...</td>\n",
       "      <td>1</td>\n",
       "      <td>999</td>\n",
       "      <td>0</td>\n",
       "      <td>nonexistent</td>\n",
       "      <td>1.1</td>\n",
       "      <td>93.994</td>\n",
       "      <td>-36.4</td>\n",
       "      <td>4.857</td>\n",
       "      <td>5191.0</td>\n",
       "      <td>no</td>\n",
       "    </tr>\n",
       "  </tbody>\n",
       "</table>\n",
       "<p>5 rows × 21 columns</p>\n",
       "</div>"
      ],
      "text/plain": [
       "   age        job  marital    education  default housing loan    contact  \\\n",
       "0   56  housemaid  married     basic.4y       no      no   no  telephone   \n",
       "1   57   services  married  high.school  unknown      no   no  telephone   \n",
       "2   37   services  married  high.school       no     yes   no  telephone   \n",
       "3   40     admin.  married     basic.6y       no      no   no  telephone   \n",
       "4   56   services  married  high.school       no      no  yes  telephone   \n",
       "\n",
       "  month day_of_week  ...  campaign  pdays  previous     poutcome emp.var.rate  \\\n",
       "0   may         mon  ...         1    999         0  nonexistent          1.1   \n",
       "1   may         mon  ...         1    999         0  nonexistent          1.1   \n",
       "2   may         mon  ...         1    999         0  nonexistent          1.1   \n",
       "3   may         mon  ...         1    999         0  nonexistent          1.1   \n",
       "4   may         mon  ...         1    999         0  nonexistent          1.1   \n",
       "\n",
       "   cons.price.idx  cons.conf.idx  euribor3m  nr.employed   y  \n",
       "0          93.994          -36.4      4.857       5191.0  no  \n",
       "1          93.994          -36.4      4.857       5191.0  no  \n",
       "2          93.994          -36.4      4.857       5191.0  no  \n",
       "3          93.994          -36.4      4.857       5191.0  no  \n",
       "4          93.994          -36.4      4.857       5191.0  no  \n",
       "\n",
       "[5 rows x 21 columns]"
      ]
     },
     "execution_count": 5,
     "metadata": {},
     "output_type": "execute_result"
    }
   ],
   "source": [
    "data = pd.read_csv('bank-additional-full.csv', delimiter=';')\n",
    "data.head()\n"
   ]
  },
  {
   "cell_type": "code",
   "execution_count": 6,
   "id": "4e7aff9a-122e-4695-b520-506f4783c71d",
   "metadata": {},
   "outputs": [],
   "source": [
    "label_encoder = LabelEncoder()\n",
    "data['y'] = label_encoder.fit_transform(data['y'])"
   ]
  },
  {
   "cell_type": "markdown",
   "id": "c4f1f292-d599-49ce-91ec-4f079ecb72cd",
   "metadata": {},
   "source": [
    "Visualizing Data"
   ]
  },
  {
   "cell_type": "code",
   "execution_count": 8,
   "id": "978c9e7e-2ae4-4391-b728-acb231e27967",
   "metadata": {},
   "outputs": [
    {
     "name": "stdout",
     "output_type": "stream",
     "text": [
      "Size of data: (41188, 21)\n",
      "Number of events/rows: 41188\n",
      "Number of columns: 21\n",
      "\n",
      "List of features in dataset:\n",
      "age\n",
      "job\n",
      "marital\n",
      "education\n",
      "default\n",
      "housing\n",
      "loan\n",
      "contact\n",
      "month\n",
      "day_of_week\n",
      "duration\n",
      "campaign\n",
      "pdays\n",
      "previous\n",
      "poutcome\n",
      "emp.var.rate\n",
      "cons.price.idx\n",
      "cons.conf.idx\n",
      "euribor3m\n",
      "nr.employed\n",
      "y\n"
     ]
    }
   ],
   "source": [
    "print('Size of data: {}'.format(data.shape))\n",
    "print('Number of events/rows: {}'.format(data.shape[0]))\n",
    "print('Number of columns: {}'.format(data.shape[1]))\n",
    "\n",
    "print ('\\nList of features in dataset:')\n",
    "for col in data.columns:\n",
    "    print(col)"
   ]
  },
  {
   "cell_type": "code",
   "execution_count": null,
   "id": "a7f9d55f-04df-4119-bc3e-f09b02ae0b7a",
   "metadata": {},
   "outputs": [],
   "source": []
  },
  {
   "cell_type": "code",
   "execution_count": 10,
   "id": "30eb2c38-058c-45f6-9c8f-093ca8379122",
   "metadata": {},
   "outputs": [
    {
     "name": "stdout",
     "output_type": "stream",
     "text": [
      "Number of \"yes events\": 4640\n",
      "Number of \"no events\": 36548\n",
      "Fraction signal: 0.11265417111780131\n"
     ]
    }
   ],
   "source": [
    "# look at column labels --- notice last one is \"Label\" and first is \"EventId\" also \"Weight\"\n",
    "print('Number of \"yes events\": {}'.format(len(data[data.y == 1])))\n",
    "print('Number of \"no events\": {}'.format(len(data[data.y == 0])))\n",
    "\n",
    "print('Fraction signal: {}'.format(len(data[data.y == 1])/(float)(len(data[data.y == 1]) + len(data[data.y== 0]))))"
   ]
  },
  {
   "cell_type": "markdown",
   "id": "185a9ae7-5f8c-423c-8d1e-5355c8ce0420",
   "metadata": {},
   "source": [
    "From Turorial:\n",
    "First, we'll sliceup the data into training and testing sets. \n",
    "\n",
    "Here, we take 20% for the test set, which is arbitrary.\n",
    "\n",
    "In this file, all samples are independent and ordered randomly, so we can just grab a chunk.\n",
    "\n",
    "We can also change the data type of the \"Label\" column to the pandas type \"category\" for easier use later."
   ]
  },
  {
   "cell_type": "code",
   "execution_count": 24,
   "id": "c9bff5d5-0e99-4f43-8432-7cd42c149af3",
   "metadata": {},
   "outputs": [],
   "source": [
    "data['y'] = data.y.astype('category')"
   ]
  },
  {
   "cell_type": "code",
   "execution_count": 26,
   "id": "528fa91e-05db-4030-98ab-14e12d625e6e",
   "metadata": {},
   "outputs": [],
   "source": [
    "#data_train = data[:32950]   #Does this make 20% for our dataset? Maybe not...\n",
    "#data_test = data[32950:]"
   ]
  },
  {
   "cell_type": "markdown",
   "id": "ee88d144-d1fc-4504-971b-0f2aadcbe2f7",
   "metadata": {},
   "source": [
    "Check to make sure we did it right:"
   ]
  },
  {
   "cell_type": "code",
   "execution_count": 29,
   "id": "d8a8cd24-ed6d-45c0-a8fd-91bbea348f70",
   "metadata": {},
   "outputs": [
    {
     "name": "stdout",
     "output_type": "stream",
     "text": [
      "Number of training samples: 32950\n",
      "Number of testing samples: 8238\n",
      "\n",
      "Number of yes events in training set: 2100\n",
      "Number of no events in training set: 30850\n"
     ]
    },
    {
     "ename": "AttributeError",
     "evalue": "'DataFrame' object has no attribute 'Label'",
     "output_type": "error",
     "traceback": [
      "\u001b[1;31m---------------------------------------------------------------------------\u001b[0m",
      "\u001b[1;31mAttributeError\u001b[0m                            Traceback (most recent call last)",
      "\u001b[1;32m~\\AppData\\Local\\Temp\\ipykernel_77608\\2520468290.py\u001b[0m in \u001b[0;36m?\u001b[1;34m()\u001b[0m\n\u001b[0;32m      2\u001b[0m \u001b[0mprint\u001b[0m\u001b[1;33m(\u001b[0m\u001b[1;34m'Number of testing samples: {}'\u001b[0m\u001b[1;33m.\u001b[0m\u001b[0mformat\u001b[0m\u001b[1;33m(\u001b[0m\u001b[0mlen\u001b[0m\u001b[1;33m(\u001b[0m\u001b[0mdata_test\u001b[0m\u001b[1;33m)\u001b[0m\u001b[1;33m)\u001b[0m\u001b[1;33m)\u001b[0m\u001b[1;33m\u001b[0m\u001b[1;33m\u001b[0m\u001b[0m\n\u001b[0;32m      3\u001b[0m \u001b[1;33m\u001b[0m\u001b[0m\n\u001b[0;32m      4\u001b[0m \u001b[0mprint\u001b[0m\u001b[1;33m(\u001b[0m\u001b[1;34m'\\nNumber of yes events in training set: {}'\u001b[0m\u001b[1;33m.\u001b[0m\u001b[0mformat\u001b[0m\u001b[1;33m(\u001b[0m\u001b[0mlen\u001b[0m\u001b[1;33m(\u001b[0m\u001b[0mdata_train\u001b[0m\u001b[1;33m[\u001b[0m\u001b[0mdata_train\u001b[0m\u001b[1;33m.\u001b[0m\u001b[0my\u001b[0m \u001b[1;33m==\u001b[0m \u001b[1;36m1\u001b[0m\u001b[1;33m]\u001b[0m\u001b[1;33m)\u001b[0m\u001b[1;33m)\u001b[0m\u001b[1;33m)\u001b[0m\u001b[1;33m\u001b[0m\u001b[1;33m\u001b[0m\u001b[0m\n\u001b[0;32m      5\u001b[0m \u001b[0mprint\u001b[0m\u001b[1;33m(\u001b[0m\u001b[1;34m'Number of no events in training set: {}'\u001b[0m\u001b[1;33m.\u001b[0m\u001b[0mformat\u001b[0m\u001b[1;33m(\u001b[0m\u001b[0mlen\u001b[0m\u001b[1;33m(\u001b[0m\u001b[0mdata_train\u001b[0m\u001b[1;33m[\u001b[0m\u001b[0mdata_train\u001b[0m\u001b[1;33m.\u001b[0m\u001b[0my\u001b[0m \u001b[1;33m==\u001b[0m \u001b[1;36m0\u001b[0m\u001b[1;33m]\u001b[0m\u001b[1;33m)\u001b[0m\u001b[1;33m)\u001b[0m\u001b[1;33m)\u001b[0m\u001b[1;33m\u001b[0m\u001b[1;33m\u001b[0m\u001b[0m\n\u001b[1;32m----> 6\u001b[1;33m \u001b[0mprint\u001b[0m\u001b[1;33m(\u001b[0m\u001b[1;34m'Fraction signal: {}'\u001b[0m\u001b[1;33m.\u001b[0m\u001b[0mformat\u001b[0m\u001b[1;33m(\u001b[0m\u001b[0mlen\u001b[0m\u001b[1;33m(\u001b[0m\u001b[0mdata_train\u001b[0m\u001b[1;33m[\u001b[0m\u001b[0mdata_train\u001b[0m\u001b[1;33m.\u001b[0m\u001b[0my\u001b[0m \u001b[1;33m==\u001b[0m \u001b[1;36m1\u001b[0m\u001b[1;33m]\u001b[0m\u001b[1;33m)\u001b[0m\u001b[1;33m/\u001b[0m\u001b[1;33m(\u001b[0m\u001b[0mfloat\u001b[0m\u001b[1;33m)\u001b[0m\u001b[1;33m(\u001b[0m\u001b[0mlen\u001b[0m\u001b[1;33m(\u001b[0m\u001b[0mdata_train\u001b[0m\u001b[1;33m[\u001b[0m\u001b[0mdata_train\u001b[0m\u001b[1;33m.\u001b[0m\u001b[0mLabel\u001b[0m \u001b[1;33m==\u001b[0m \u001b[1;36m1\u001b[0m\u001b[1;33m]\u001b[0m\u001b[1;33m)\u001b[0m \u001b[1;33m+\u001b[0m \u001b[0mlen\u001b[0m\u001b[1;33m(\u001b[0m\u001b[0mdata_train\u001b[0m\u001b[1;33m[\u001b[0m\u001b[0mdata_train\u001b[0m\u001b[1;33m.\u001b[0m\u001b[0my\u001b[0m \u001b[1;33m==\u001b[0m \u001b[1;36m0\u001b[0m\u001b[1;33m]\u001b[0m\u001b[1;33m)\u001b[0m\u001b[1;33m)\u001b[0m\u001b[1;33m)\u001b[0m\u001b[1;33m)\u001b[0m\u001b[1;33m\u001b[0m\u001b[1;33m\u001b[0m\u001b[0m\n\u001b[0m",
      "\u001b[1;32m~\\AppData\\Local\\anaconda3\\Lib\\site-packages\\pandas\\core\\generic.py\u001b[0m in \u001b[0;36m?\u001b[1;34m(self, name)\u001b[0m\n\u001b[0;32m   6295\u001b[0m             \u001b[1;32mand\u001b[0m \u001b[0mname\u001b[0m \u001b[1;32mnot\u001b[0m \u001b[1;32min\u001b[0m \u001b[0mself\u001b[0m\u001b[1;33m.\u001b[0m\u001b[0m_accessors\u001b[0m\u001b[1;33m\u001b[0m\u001b[1;33m\u001b[0m\u001b[0m\n\u001b[0;32m   6296\u001b[0m             \u001b[1;32mand\u001b[0m \u001b[0mself\u001b[0m\u001b[1;33m.\u001b[0m\u001b[0m_info_axis\u001b[0m\u001b[1;33m.\u001b[0m\u001b[0m_can_hold_identifiers_and_holds_name\u001b[0m\u001b[1;33m(\u001b[0m\u001b[0mname\u001b[0m\u001b[1;33m)\u001b[0m\u001b[1;33m\u001b[0m\u001b[1;33m\u001b[0m\u001b[0m\n\u001b[0;32m   6297\u001b[0m         \u001b[1;33m)\u001b[0m\u001b[1;33m:\u001b[0m\u001b[1;33m\u001b[0m\u001b[1;33m\u001b[0m\u001b[0m\n\u001b[0;32m   6298\u001b[0m             \u001b[1;32mreturn\u001b[0m \u001b[0mself\u001b[0m\u001b[1;33m[\u001b[0m\u001b[0mname\u001b[0m\u001b[1;33m]\u001b[0m\u001b[1;33m\u001b[0m\u001b[1;33m\u001b[0m\u001b[0m\n\u001b[1;32m-> 6299\u001b[1;33m         \u001b[1;32mreturn\u001b[0m \u001b[0mobject\u001b[0m\u001b[1;33m.\u001b[0m\u001b[0m__getattribute__\u001b[0m\u001b[1;33m(\u001b[0m\u001b[0mself\u001b[0m\u001b[1;33m,\u001b[0m \u001b[0mname\u001b[0m\u001b[1;33m)\u001b[0m\u001b[1;33m\u001b[0m\u001b[1;33m\u001b[0m\u001b[0m\n\u001b[0m",
      "\u001b[1;31mAttributeError\u001b[0m: 'DataFrame' object has no attribute 'Label'"
     ]
    }
   ],
   "source": [
    "print('Number of training samples: {}'.format(len(data_train)))\n",
    "print('Number of testing samples: {}'.format(len(data_test)))\n",
    "\n",
    "print('\\nNumber of yes events in training set: {}'.format(len(data_train[data_train.y == 1])))\n",
    "print('Number of no events in training set: {}'.format(len(data_train[data_train.y == 0])))\n",
    "print('Fraction signal: {}'.format(len(data_train[data_train.y == 1])/(float)(len(data_train[data_train.Label == 1]) + len(data_train[data_train.y == 0]))))"
   ]
  },
  {
   "cell_type": "markdown",
   "id": "aa45fbcd-a785-4802-9b76-e4ad5c15d8c8",
   "metadata": {},
   "source": [
    "The DMatrix object takes as arguments:\n",
    "- data --- the features\n",
    "- label --- 1/0 or true/false for binary data (we have to convert our label to bool from string s/b)\n",
    "- missing --- how missing values are represented (here as -999.0)\n",
    "- feature_names --- the names of all of the features (optional)"
   ]
  },
  {
   "cell_type": "code",
   "execution_count": 32,
   "id": "68dbeda4-7ea1-463e-b534-a3411b2f1d7b",
   "metadata": {},
   "outputs": [
    {
     "name": "stdout",
     "output_type": "stream",
     "text": [
      "       age          job   marital            education  default housing loan  \\\n",
      "33177   27  blue-collar   married             basic.9y       no     yes   no   \n",
      "7784    38      unknown  divorced          high.school  unknown     yes   no   \n",
      "33983   32   technician   married    university.degree       no     yes   no   \n",
      "19122   41   technician   married    university.degree       no     yes   no   \n",
      "17090   50      retired   married  professional.course       no     yes   no   \n",
      "...    ...          ...       ...                  ...      ...     ...  ...   \n",
      "5520    36     services    single             basic.9y       no     yes  yes   \n",
      "35814   31   technician   married    university.degree       no     yes   no   \n",
      "20463   33   technician   married  professional.course       no      no   no   \n",
      "18638   36       admin.    single    university.degree       no     yes   no   \n",
      "35683   36  blue-collar   married             basic.9y       no     yes   no   \n",
      "\n",
      "         contact month day_of_week  duration  campaign  pdays  previous  \\\n",
      "33177   cellular   may         tue       631         1     11         1   \n",
      "7784   telephone   jun         mon       133         1    999         0   \n",
      "33983   cellular   may         wed       641         1    999         0   \n",
      "19122   cellular   aug         tue        27         3    999         0   \n",
      "17090   cellular   jul         fri       695         1    999         0   \n",
      "...          ...   ...         ...       ...       ...    ...       ...   \n",
      "5520   telephone   may         mon       129         3    999         0   \n",
      "35814  telephone   may         mon        45         4    999         0   \n",
      "20463   cellular   aug         tue       129         2    999         0   \n",
      "18638   cellular   jul         thu       744         8    999         0   \n",
      "35683   cellular   may         mon        98         2    999         0   \n",
      "\n",
      "          poutcome  emp.var.rate  cons.price.idx  cons.conf.idx  euribor3m  \\\n",
      "33177      success          -1.8          92.893          -46.2      1.291   \n",
      "7784   nonexistent           1.4          94.465          -41.8      4.865   \n",
      "33983  nonexistent          -1.8          92.893          -46.2      1.281   \n",
      "19122  nonexistent           1.4          93.444          -36.1      4.968   \n",
      "17090  nonexistent           1.4          93.918          -42.7      4.962   \n",
      "...            ...           ...             ...            ...        ...   \n",
      "5520   nonexistent           1.1          93.994          -36.4      4.857   \n",
      "35814  nonexistent          -1.8          92.893          -46.2      1.244   \n",
      "20463  nonexistent           1.4          93.444          -36.1      4.966   \n",
      "18638  nonexistent           1.4          93.918          -42.7      4.968   \n",
      "35683  nonexistent          -1.8          92.893          -46.2      1.244   \n",
      "\n",
      "       nr.employed  \n",
      "33177       5099.1  \n",
      "7784        5228.1  \n",
      "33983       5099.1  \n",
      "19122       5228.1  \n",
      "17090       5228.1  \n",
      "...            ...  \n",
      "5520        5191.0  \n",
      "35814       5099.1  \n",
      "20463       5228.1  \n",
      "18638       5228.1  \n",
      "35683       5099.1  \n",
      "\n",
      "[20594 rows x 20 columns]\n"
     ]
    }
   ],
   "source": [
    "X = data.drop(columns='y')   #the result column, separation of features from target as X and Y\n",
    "y = data['y']\n",
    "\n",
    "categorical_columns = ['job', 'marital', 'education', 'default', 'housing', 'loan', \n",
    "                       'contact', 'month', 'day_of_week', 'poutcome']\n",
    "for col in categorical_columns:\n",
    "    X[col] = X[col].astype('category')   #needed to change to categorical\n",
    "\n",
    "X_train, X_test, y_train, y_test = train_test_split(X, y, test_size=0.5, random_state=5)\n",
    "print(X_train)"
   ]
  },
  {
   "cell_type": "code",
   "execution_count": 39,
   "id": "31b8c0d2-ca5c-48d7-8b0d-25f8b31469f6",
   "metadata": {},
   "outputs": [],
   "source": [
    "#just to make sure categorical columns retain 'category' dtype after the split\n",
    "for col in categorical_columns:\n",
    "    if col in X_train.columns:\n",
    "        X_train[col] = X_train[col].astype('category')\n",
    "        X_test[col] = X_test[col].astype('category')"
   ]
  },
  {
   "cell_type": "code",
   "execution_count": 41,
   "id": "c7b1058f-e429-45dc-98d7-393e32b8d8c7",
   "metadata": {},
   "outputs": [],
   "source": [
    "#Dataset is highly imbalanced (e.g., many more background events than signal), the model may favor predicting background over signal.\n",
    "#Adding a weight parameter for the signal class actually fixes the trouble with the absence of a peak at 1\n",
    "\n",
    "#DMatrix\n",
    "dtrain = xgb.DMatrix(data=X_train, label=y_train, enable_categorical=True)\n",
    "dtest = xgb.DMatrix(data=X_test, label=y_test, enable_categorical=True)\n",
    "#print(dtest)\n",
    "# Define parameters\n",
    "params = {\n",
    "    'objective': 'binary:logistic',\n",
    "    'eval_metric': 'logloss',\n",
    "    'learning_rate': 0.1,\n",
    "    'max_depth': 6,\n",
    "    'subsample': 0.8,\n",
    "    'colsample_bytree': 0.8,\n",
    "    'tree_method': 'hist',\n",
    "    'scale_pos_weight': len(y_train[y_train == 0]) / len(y_train[y_train == 1]),\n",
    "    'seed': 42\n",
    "}\n"
   ]
  },
  {
   "cell_type": "code",
   "execution_count": 43,
   "id": "9aaaa627-7bd2-4893-9a83-f74a6eadda37",
   "metadata": {},
   "outputs": [
    {
     "name": "stdout",
     "output_type": "stream",
     "text": [
      "[0]\ttrain-logloss:0.63037\teval-logloss:0.63158\n",
      "[1]\ttrain-logloss:0.60580\teval-logloss:0.60821\n",
      "[2]\ttrain-logloss:0.55888\teval-logloss:0.56229\n",
      "[3]\ttrain-logloss:0.51949\teval-logloss:0.52393\n",
      "[4]\ttrain-logloss:0.50499\teval-logloss:0.51034\n",
      "[5]\ttrain-logloss:0.47435\teval-logloss:0.48044\n",
      "[6]\ttrain-logloss:0.44792\teval-logloss:0.45491\n",
      "[7]\ttrain-logloss:0.42554\teval-logloss:0.43323\n",
      "[8]\ttrain-logloss:0.40603\teval-logloss:0.41407\n",
      "[9]\ttrain-logloss:0.38962\teval-logloss:0.39840\n",
      "[10]\ttrain-logloss:0.37507\teval-logloss:0.38456\n",
      "[11]\ttrain-logloss:0.36264\teval-logloss:0.37254\n",
      "[12]\ttrain-logloss:0.35724\teval-logloss:0.36780\n",
      "[13]\ttrain-logloss:0.34664\teval-logloss:0.35782\n",
      "[14]\ttrain-logloss:0.33748\teval-logloss:0.34904\n",
      "[15]\ttrain-logloss:0.32999\teval-logloss:0.34199\n",
      "[16]\ttrain-logloss:0.32658\teval-logloss:0.33919\n",
      "[17]\ttrain-logloss:0.31949\teval-logloss:0.33282\n",
      "[18]\ttrain-logloss:0.31655\teval-logloss:0.33042\n",
      "[19]\ttrain-logloss:0.31109\teval-logloss:0.32549\n",
      "[20]\ttrain-logloss:0.30635\teval-logloss:0.32111\n",
      "[21]\ttrain-logloss:0.30243\teval-logloss:0.31760\n",
      "[22]\ttrain-logloss:0.29853\teval-logloss:0.31411\n",
      "[23]\ttrain-logloss:0.29494\teval-logloss:0.31079\n",
      "[24]\ttrain-logloss:0.29182\teval-logloss:0.30812\n",
      "[25]\ttrain-logloss:0.28924\teval-logloss:0.30581\n",
      "[26]\ttrain-logloss:0.28679\teval-logloss:0.30379\n",
      "[27]\ttrain-logloss:0.28532\teval-logloss:0.30267\n",
      "[28]\ttrain-logloss:0.28315\teval-logloss:0.30100\n",
      "[29]\ttrain-logloss:0.28116\teval-logloss:0.29939\n",
      "[30]\ttrain-logloss:0.27938\teval-logloss:0.29810\n",
      "[31]\ttrain-logloss:0.27763\teval-logloss:0.29685\n",
      "[32]\ttrain-logloss:0.27605\teval-logloss:0.29550\n",
      "[33]\ttrain-logloss:0.27454\teval-logloss:0.29461\n",
      "[34]\ttrain-logloss:0.27325\teval-logloss:0.29381\n",
      "[35]\ttrain-logloss:0.27143\teval-logloss:0.29222\n",
      "[36]\ttrain-logloss:0.27004\teval-logloss:0.29139\n",
      "[37]\ttrain-logloss:0.26887\teval-logloss:0.29071\n",
      "[38]\ttrain-logloss:0.26706\teval-logloss:0.28957\n",
      "[39]\ttrain-logloss:0.26596\teval-logloss:0.28876\n",
      "[40]\ttrain-logloss:0.26468\teval-logloss:0.28781\n",
      "[41]\ttrain-logloss:0.26393\teval-logloss:0.28730\n",
      "[42]\ttrain-logloss:0.26298\teval-logloss:0.28677\n",
      "[43]\ttrain-logloss:0.26191\teval-logloss:0.28606\n",
      "[44]\ttrain-logloss:0.26133\teval-logloss:0.28573\n",
      "[45]\ttrain-logloss:0.26056\teval-logloss:0.28516\n",
      "[46]\ttrain-logloss:0.25995\teval-logloss:0.28498\n",
      "[47]\ttrain-logloss:0.25929\teval-logloss:0.28483\n",
      "[48]\ttrain-logloss:0.25865\teval-logloss:0.28443\n",
      "[49]\ttrain-logloss:0.25801\teval-logloss:0.28401\n",
      "[50]\ttrain-logloss:0.25719\teval-logloss:0.28369\n",
      "[51]\ttrain-logloss:0.25667\teval-logloss:0.28332\n",
      "[52]\ttrain-logloss:0.25600\teval-logloss:0.28303\n",
      "[53]\ttrain-logloss:0.25467\teval-logloss:0.28233\n",
      "[54]\ttrain-logloss:0.25390\teval-logloss:0.28175\n",
      "[55]\ttrain-logloss:0.25328\teval-logloss:0.28160\n",
      "[56]\ttrain-logloss:0.25188\teval-logloss:0.28081\n",
      "[57]\ttrain-logloss:0.25102\teval-logloss:0.28040\n",
      "[58]\ttrain-logloss:0.25009\teval-logloss:0.27989\n",
      "[59]\ttrain-logloss:0.24918\teval-logloss:0.27945\n",
      "[60]\ttrain-logloss:0.24851\teval-logloss:0.27914\n",
      "[61]\ttrain-logloss:0.24834\teval-logloss:0.27931\n",
      "[62]\ttrain-logloss:0.24732\teval-logloss:0.27869\n",
      "[63]\ttrain-logloss:0.24676\teval-logloss:0.27843\n",
      "[64]\ttrain-logloss:0.24646\teval-logloss:0.27845\n",
      "[65]\ttrain-logloss:0.24531\teval-logloss:0.27783\n",
      "[66]\ttrain-logloss:0.24503\teval-logloss:0.27779\n",
      "[67]\ttrain-logloss:0.24393\teval-logloss:0.27730\n",
      "[68]\ttrain-logloss:0.24346\teval-logloss:0.27704\n",
      "[69]\ttrain-logloss:0.24282\teval-logloss:0.27670\n",
      "[70]\ttrain-logloss:0.24214\teval-logloss:0.27637\n",
      "[71]\ttrain-logloss:0.24094\teval-logloss:0.27547\n",
      "[72]\ttrain-logloss:0.24048\teval-logloss:0.27510\n",
      "[73]\ttrain-logloss:0.23934\teval-logloss:0.27444\n",
      "[74]\ttrain-logloss:0.23866\teval-logloss:0.27397\n",
      "[75]\ttrain-logloss:0.23832\teval-logloss:0.27391\n",
      "[76]\ttrain-logloss:0.23708\teval-logloss:0.27324\n",
      "[77]\ttrain-logloss:0.23618\teval-logloss:0.27282\n",
      "[78]\ttrain-logloss:0.23569\teval-logloss:0.27277\n",
      "[79]\ttrain-logloss:0.23459\teval-logloss:0.27220\n",
      "[80]\ttrain-logloss:0.23390\teval-logloss:0.27182\n",
      "[81]\ttrain-logloss:0.23344\teval-logloss:0.27176\n",
      "[82]\ttrain-logloss:0.23226\teval-logloss:0.27146\n",
      "[83]\ttrain-logloss:0.23150\teval-logloss:0.27084\n",
      "[84]\ttrain-logloss:0.23072\teval-logloss:0.27033\n",
      "[85]\ttrain-logloss:0.22959\teval-logloss:0.26980\n",
      "[86]\ttrain-logloss:0.22895\teval-logloss:0.26975\n",
      "[87]\ttrain-logloss:0.22821\teval-logloss:0.26953\n",
      "[88]\ttrain-logloss:0.22753\teval-logloss:0.26935\n",
      "[89]\ttrain-logloss:0.22639\teval-logloss:0.26854\n",
      "[90]\ttrain-logloss:0.22591\teval-logloss:0.26825\n",
      "[91]\ttrain-logloss:0.22564\teval-logloss:0.26836\n",
      "[92]\ttrain-logloss:0.22473\teval-logloss:0.26774\n",
      "[93]\ttrain-logloss:0.22430\teval-logloss:0.26744\n",
      "[94]\ttrain-logloss:0.22364\teval-logloss:0.26723\n",
      "[95]\ttrain-logloss:0.22240\teval-logloss:0.26665\n",
      "[96]\ttrain-logloss:0.22204\teval-logloss:0.26669\n",
      "[97]\ttrain-logloss:0.22156\teval-logloss:0.26656\n",
      "[98]\ttrain-logloss:0.22109\teval-logloss:0.26653\n",
      "[99]\ttrain-logloss:0.22034\teval-logloss:0.26612\n",
      "Accuracy: 0.8712066035445496\n",
      "Classification Report:\n",
      "              precision    recall  f1-score   support\n",
      "\n",
      "           0       0.98      0.87      0.92      7303\n",
      "           1       0.47      0.90      0.61       935\n",
      "\n",
      "    accuracy                           0.87      8238\n",
      "   macro avg       0.72      0.88      0.77      8238\n",
      "weighted avg       0.93      0.87      0.89      8238\n",
      "\n"
     ]
    }
   ],
   "source": [
    "# Train the model\n",
    "evals = [(dtrain, 'train'), (dtest, 'eval')]\n",
    "model = xgb.train(params, dtrain, num_boost_round=100, evals=evals, early_stopping_rounds=10)\n",
    "\n",
    "# Predict and evaluate\n",
    "y_pred_prob = model.predict(dtest)\n",
    "y_pred = (y_pred_prob > 0.5).astype(int)\n",
    "accuracy = accuracy_score(y_test, y_pred)\n",
    "print(\"Accuracy:\", accuracy)\n",
    "print(\"Classification Report:\")\n",
    "print(classification_report(y_test, y_pred))"
   ]
  },
  {
   "cell_type": "code",
   "execution_count": 45,
   "id": "6a5d190d-15b5-4584-b5b3-b44d556925b9",
   "metadata": {},
   "outputs": [],
   "source": [
    "predictions = model.predict(dtest)"
   ]
  },
  {
   "cell_type": "code",
   "execution_count": 47,
   "id": "f3658168-51d5-43d5-84db-894917b6b461",
   "metadata": {},
   "outputs": [
    {
     "data": {
      "image/png": "[encoded data removed]",
      "text/plain": [
       "<Figure size 640x480 with 1 Axes>"
      ]
     },
     "metadata": {},
     "output_type": "display_data"
    },
    {
     "data": {
      "image/png": "[encoded data removed]",
      "text/plain": [
       "<Figure size 640x480 with 1 Axes>"
      ]
     },
     "metadata": {},
     "output_type": "display_data"
    }
   ],
   "source": [
    "# plot all predictions (both signal and background)\n",
    "plt.figure();\n",
    "plt.hist(predictions,bins=np.linspace(0,1,50),histtype='step',color='darkgreen',label='All events');\n",
    "# make the plot readable\n",
    "plt.xlabel('Prediction from BDT',fontsize=12);\n",
    "plt.ylabel('Events',fontsize=12);\n",
    "plt.legend(frameon=False);\n",
    "plt.show()\n",
    "# plot signal and background separately\n",
    "\n",
    "plt.figure();\n",
    "plt.hist(predictions[dtest.get_label().astype(bool)],bins=np.linspace(0,1,50),\n",
    "         histtype='step',color='midnightblue',label='signal');\n",
    "plt.hist(predictions[~(dtest.get_label().astype(bool))],bins=np.linspace(0,1,50),\n",
    "         histtype='step',color='firebrick',label='background');\n",
    "# make the plot readable\n",
    "plt.xlabel('Prediction from BDT',fontsize=12);\n",
    "plt.ylabel('Events',fontsize=12);\n",
    "plt.legend(frameon=False);\n",
    "plt.show()\n"
   ]
  },
  {
   "cell_type": "code",
   "execution_count": 115,
   "id": "a62c3d90-a6a1-440d-b213-54151915bfdc",
   "metadata": {},
   "outputs": [
    {
     "name": "stdout",
     "output_type": "stream",
     "text": [
      "Predictions summary:\n",
      "Min: 0.00012145581\n",
      "Max: 0.99230933\n",
      "Mean: 0.21639176\n",
      "Std Dev: 0.33109057\n"
     ]
    }
   ],
   "source": [
    "print(\"Predictions summary:\")\n",
    "print(\"Min:\", np.min(predictions))\n",
    "print(\"Max:\", np.max(predictions))\n",
    "print(\"Mean:\", np.mean(predictions))\n",
    "print(\"Std Dev:\", np.std(predictions))"
   ]
  },
  {
   "cell_type": "code",
   "execution_count": 117,
   "id": "d8a0acb8-0dde-4254-a801-d5cf3989cd6e",
   "metadata": {},
   "outputs": [
    {
     "name": "stdout",
     "output_type": "stream",
     "text": [
      "Label encoding verification:\n",
      "y\n",
      "0    7303\n",
      "1     935\n",
      "Name: count, dtype: int64\n"
     ]
    }
   ],
   "source": [
    "print(\"Label encoding verification:\")\n",
    "print(y_test.value_counts())\n"
   ]
  },
  {
   "cell_type": "code",
   "execution_count": 119,
   "id": "2bdb647d-d8fa-41fc-ba4b-d7ebaefced80",
   "metadata": {},
   "outputs": [],
   "source": [
    "#Purity vs Efficiency Plots\n",
    "import numpy as np"
   ]
  },
  {
   "cell_type": "code",
   "execution_count": 121,
   "id": "f7a7f8a9-e08e-4d6d-a940-15bc30e196a3",
   "metadata": {},
   "outputs": [
    {
     "name": "stderr",
     "output_type": "stream",
     "text": [
      "C:\\Users\\49682172\\AppData\\Local\\Temp\\ipykernel_72788\\4138080393.py:11: RuntimeWarning: divide by zero encountered in divide\n",
      "  plt.plot(nsignal/len(data_test[data_test.y == '1']),nsignal/(nsignal + nbackground),'o-',color='blueviolet');\n",
      "C:\\Users\\49682172\\AppData\\Local\\Temp\\ipykernel_72788\\4138080393.py:11: RuntimeWarning: invalid value encountered in divide\n",
      "  plt.plot(nsignal/len(data_test[data_test.y == '1']),nsignal/(nsignal + nbackground),'o-',color='blueviolet');\n",
      "C:\\Users\\49682172\\AppData\\Local\\Temp\\ipykernel_72788\\4138080393.py:15: UserWarning: No artists with labels found to put in legend.  Note that artists whose label start with an underscore are ignored when legend() is called with no argument.\n",
      "  plt.legend(frameon=False);\n"
     ]
    },
    {
     "data": {
      "image/png": "[encoded data removed]",
      "text/plain": [
       "<Figure size 640x480 with 1 Axes>"
      ]
     },
     "metadata": {},
     "output_type": "display_data"
    }
   ],
   "source": [
    "# choose score cuts:\n",
    "cuts = np.linspace(0,1,500);\n",
    "nsignal = np.zeros(len(cuts));\n",
    "nbackground = np.zeros(len(cuts));\n",
    "for i,cut in enumerate(cuts):\n",
    "    nsignal[i] = len(np.where(predictions[dtest.get_label().astype(bool)] > cut)[0]);\n",
    "    nbackground[i] = len(np.where(predictions[~(dtest.get_label().astype(bool))] > cut)[0]);\n",
    "    \n",
    "# plot efficiency vs. purity (ROC curve)\n",
    "plt.figure();\n",
    "plt.plot(nsignal/len(data_test[data_test.y == '1']),nsignal/(nsignal + nbackground),'o-',color='blueviolet');\n",
    "# make the plot readable\n",
    "plt.xlabel('Efficiency',fontsize=12);\n",
    "plt.ylabel('Purity',fontsize=12);\n",
    "plt.legend(frameon=False);\n",
    "plt.show()"
   ]
  },
  {
   "cell_type": "code",
   "execution_count": 123,
   "id": "686cc013-c661-4ef2-a452-72630433f6ca",
   "metadata": {},
   "outputs": [],
   "source": [
    "xgb.plot_importance(model,grid=False);"
   ]
  },
  {
   "cell_type": "code",
   "execution_count": 125,
   "id": "ede1ee9a-c1d9-4edc-b299-5980cd14ed0d",
   "metadata": {},
   "outputs": [
    {
     "data": {
      "image/png": "[encoded data removed]",
      "text/plain": [
       "<Figure size 640x480 with 1 Axes>"
      ]
     },
     "metadata": {},
     "output_type": "display_data"
    },
    {
     "data": {
      "image/png": "[encoded data removed]",
      "text/plain": [
       "<Figure size 640x480 with 1 Axes>"
      ]
     },
     "metadata": {},
     "output_type": "display_data"
    }
   ],
   "source": [
    "plt.figure();\n",
    "plt.hist(data_train.duration[data_train.y == '1'],bins=np.linspace(0,800,50),\n",
    "         histtype='step',color='midnightblue',label='signal');\n",
    "plt.hist(data_train.duration[data_train.y == '0'],bins=np.linspace(0,800,50),\n",
    "         histtype='step',color='firebrick',label='background');\n",
    "\n",
    "plt.xlabel('duration',fontsize=12);\n",
    "plt.ylabel('Events',fontsize=12);\n",
    "plt.legend(frameon=False);\n",
    "plt.show()"
   ]
  },
  {
   "cell_type": "code",
   "execution_count": 129,
   "id": "d95c86af-f23a-4c63-83ef-26060cb3f818",
   "metadata": {},
   "outputs": [
    {
     "ename": "AttributeError",
     "evalue": "'DataFrame' object has no attribute 'PRI_tau_pt'",
     "output_type": "error",
     "traceback": [
      "\u001b[1;31m---------------------------------------------------------------------------\u001b[0m",
      "\u001b[1;31mAttributeError\u001b[0m                            Traceback (most recent call last)",
      "\u001b[1;32m~\\AppData\\Local\\Temp\\ipykernel_72788\\850847413.py\u001b[0m in \u001b[0;36m?\u001b[1;34m()\u001b[0m\n\u001b[0;32m      1\u001b[0m \u001b[0mplt\u001b[0m\u001b[1;33m.\u001b[0m\u001b[0mfigure\u001b[0m\u001b[1;33m(\u001b[0m\u001b[1;33m)\u001b[0m\u001b[1;33m;\u001b[0m\u001b[1;33m\u001b[0m\u001b[1;33m\u001b[0m\u001b[0m\n\u001b[1;32m----> 2\u001b[1;33m plt.plot(data_train.duration[data_train.y == '0'],data_train.PRI_tau_pt[data_train.Label == 'b'],\n\u001b[0m\u001b[0;32m      3\u001b[0m          \u001b[1;34m'o'\u001b[0m\u001b[1;33m,\u001b[0m\u001b[0mmarkersize\u001b[0m\u001b[1;33m=\u001b[0m\u001b[1;36m2\u001b[0m\u001b[1;33m,\u001b[0m\u001b[0mcolor\u001b[0m\u001b[1;33m=\u001b[0m\u001b[1;34m'firebrick'\u001b[0m\u001b[1;33m,\u001b[0m\u001b[0mmarkeredgewidth\u001b[0m\u001b[1;33m=\u001b[0m\u001b[1;36m0\u001b[0m\u001b[1;33m,\u001b[0m\u001b[0malpha\u001b[0m\u001b[1;33m=\u001b[0m\u001b[1;36m0.8\u001b[0m\u001b[1;33m,\u001b[0m\u001b[0mlabel\u001b[0m\u001b[1;33m=\u001b[0m\u001b[1;34m'background'\u001b[0m\u001b[1;33m)\u001b[0m\u001b[1;33m;\u001b[0m\u001b[1;33m\u001b[0m\u001b[1;33m\u001b[0m\u001b[0m\n\u001b[0;32m      4\u001b[0m plt.plot(data_train.duration[data_train.y == '1'],data_train.PRI_tau_pt[data_train.Label == 's'],\n\u001b[0;32m      5\u001b[0m          \u001b[1;34m'o'\u001b[0m\u001b[1;33m,\u001b[0m\u001b[0mmarkersize\u001b[0m\u001b[1;33m=\u001b[0m\u001b[1;36m2\u001b[0m\u001b[1;33m,\u001b[0m\u001b[0mcolor\u001b[0m\u001b[1;33m=\u001b[0m\u001b[1;34m'mediumblue'\u001b[0m\u001b[1;33m,\u001b[0m\u001b[0mmarkeredgewidth\u001b[0m\u001b[1;33m=\u001b[0m\u001b[1;36m0\u001b[0m\u001b[1;33m,\u001b[0m\u001b[0malpha\u001b[0m\u001b[1;33m=\u001b[0m\u001b[1;36m0.8\u001b[0m\u001b[1;33m,\u001b[0m\u001b[0mlabel\u001b[0m\u001b[1;33m=\u001b[0m\u001b[1;34m'signal'\u001b[0m\u001b[1;33m)\u001b[0m\u001b[1;33m;\u001b[0m\u001b[1;33m\u001b[0m\u001b[1;33m\u001b[0m\u001b[0m\n",
      "\u001b[1;32m~\\AppData\\Local\\anaconda3\\Lib\\site-packages\\pandas\\core\\generic.py\u001b[0m in \u001b[0;36m?\u001b[1;34m(self, name)\u001b[0m\n\u001b[0;32m   6295\u001b[0m             \u001b[1;32mand\u001b[0m \u001b[0mname\u001b[0m \u001b[1;32mnot\u001b[0m \u001b[1;32min\u001b[0m \u001b[0mself\u001b[0m\u001b[1;33m.\u001b[0m\u001b[0m_accessors\u001b[0m\u001b[1;33m\u001b[0m\u001b[1;33m\u001b[0m\u001b[0m\n\u001b[0;32m   6296\u001b[0m             \u001b[1;32mand\u001b[0m \u001b[0mself\u001b[0m\u001b[1;33m.\u001b[0m\u001b[0m_info_axis\u001b[0m\u001b[1;33m.\u001b[0m\u001b[0m_can_hold_identifiers_and_holds_name\u001b[0m\u001b[1;33m(\u001b[0m\u001b[0mname\u001b[0m\u001b[1;33m)\u001b[0m\u001b[1;33m\u001b[0m\u001b[1;33m\u001b[0m\u001b[0m\n\u001b[0;32m   6297\u001b[0m         \u001b[1;33m)\u001b[0m\u001b[1;33m:\u001b[0m\u001b[1;33m\u001b[0m\u001b[1;33m\u001b[0m\u001b[0m\n\u001b[0;32m   6298\u001b[0m             \u001b[1;32mreturn\u001b[0m \u001b[0mself\u001b[0m\u001b[1;33m[\u001b[0m\u001b[0mname\u001b[0m\u001b[1;33m]\u001b[0m\u001b[1;33m\u001b[0m\u001b[1;33m\u001b[0m\u001b[0m\n\u001b[1;32m-> 6299\u001b[1;33m         \u001b[1;32mreturn\u001b[0m \u001b[0mobject\u001b[0m\u001b[1;33m.\u001b[0m\u001b[0m__getattribute__\u001b[0m\u001b[1;33m(\u001b[0m\u001b[0mself\u001b[0m\u001b[1;33m,\u001b[0m \u001b[0mname\u001b[0m\u001b[1;33m)\u001b[0m\u001b[1;33m\u001b[0m\u001b[1;33m\u001b[0m\u001b[0m\n\u001b[0m",
      "\u001b[1;31mAttributeError\u001b[0m: 'DataFrame' object has no attribute 'PRI_tau_pt'"
     ]
    }
   ],
   "source": [
    "plt.figure();\n",
    "plt.plot(data_train.duration[data_train.y == '0'],data_train.PRI_tau_pt[data_train.Label == 'b'],\n",
    "         'o',markersize=2,color='firebrick',markeredgewidth=0,alpha=0.8,label='background');\n",
    "plt.plot(data_train.duration[data_train.y == '1'],data_train.PRI_tau_pt[data_train.Label == 's'],\n",
    "         'o',markersize=2,color='mediumblue',markeredgewidth=0,alpha=0.8,label='signal');\n",
    "\n",
    "plt.xlim(0,400);\n",
    "plt.ylim(0,200);\n",
    "plt.xlabel('DER_mass_MMC',fontsize=12);\n",
    "plt.ylabel('PRI_tau_pt',fontsize=12);\n",
    "plt.legend(frameon=False,numpoints=1,markerscale=2);\n",
    "plt.show()"
   ]
  },
  {
   "cell_type": "code",
   "execution_count": null,
   "id": "aec63a6e-ed75-43d7-b7c6-f6be97d9cf5d",
   "metadata": {},
   "outputs": [],
   "source": []
  }
 ],
 "metadata": {
  "kernelspec": {
   "display_name": "Python [conda env:base] *",
   "language": "python",
   "name": "conda-base-py"
  },
  "language_info": {
   "codemirror_mode": {
    "name": "ipython",
    "version": 3
   },
   "file_extension": ".py",
   "mimetype": "text/x-python",
   "name": "python",
   "nbconvert_exporter": "python",
   "pygments_lexer": "ipython3",
   "version": "3.12.7"
  }
 },
 "nbformat": 4,
 "nbformat_minor": 5
}
